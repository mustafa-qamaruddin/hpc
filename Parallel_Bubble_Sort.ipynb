{
 "cells": [
  {
   "cell_type": "code",
   "execution_count": 1,
   "metadata": {
    "colab": {
     "base_uri": "https://localhost:8080/",
     "height": 34
    },
    "colab_type": "code",
    "id": "DwrxyfYY5Ivy",
    "outputId": "5f91bd09-cdcb-4a7c-f9ea-b8c195047a1a"
   },
   "outputs": [
    {
     "name": "stdout",
     "output_type": "stream",
     "text": [
      "/usr/bin/python: No module named pip\r\n"
     ]
    }
   ],
   "source": [
    "!python -m pip install mpi4py"
   ]
  },
  {
   "cell_type": "code",
   "execution_count": 2,
   "metadata": {
    "colab": {},
    "colab_type": "code",
    "id": "FQBr5nRI45TS"
   },
   "outputs": [],
   "source": [
    "import numpy as np\n",
    "from matplotlib import pyplot as plt\n",
    "%matplotlib inline"
   ]
  },
  {
   "cell_type": "code",
   "execution_count": 3,
   "metadata": {
    "colab": {
     "base_uri": "https://localhost:8080/",
     "height": 51
    },
    "colab_type": "code",
    "id": "wYk1U_QJ5GW3",
    "outputId": "69f1e740-16e5-44fe-f863-6496706a3ba9"
   },
   "outputs": [
    {
     "data": {
      "text/plain": [
       "array([13.22522267, 13.05553472,  3.08082048, 15.17418072,  7.15051865,\n",
       "        8.60215653,  7.47806967,  5.12825802,  4.04146365, 14.92450938])"
      ]
     },
     "execution_count": 3,
     "metadata": {},
     "output_type": "execute_result"
    }
   ],
   "source": [
    "arr = 6.3 * np.random.randn(10) + 4.5\n",
    "arr"
   ]
  },
  {
   "cell_type": "code",
   "execution_count": 4,
   "metadata": {
    "colab": {},
    "colab_type": "code",
    "id": "5QJu-FaV5rbS"
   },
   "outputs": [],
   "source": [
    "def seqBubbleSort(arr):\n",
    "  \n",
    "  for i in range(len(arr)):\n",
    "    \n",
    "    for j in range(i+1, len(arr)):\n",
    "      \n",
    "      if arr[i] > arr[j]:\n",
    "        arr[i], arr[j] = arr[j], arr[i]\n",
    "  \n",
    "  return arr"
   ]
  },
  {
   "cell_type": "code",
   "execution_count": 5,
   "metadata": {
    "colab": {
     "base_uri": "https://localhost:8080/",
     "height": 51
    },
    "colab_type": "code",
    "id": "MnVYXWdv6rWT",
    "outputId": "5e5128e3-7a5d-4109-cba2-77b68d915b55"
   },
   "outputs": [
    {
     "data": {
      "text/plain": [
       "array([ 3.08082048,  4.04146365,  5.12825802,  7.15051865,  7.47806967,\n",
       "        8.60215653, 13.05553472, 13.22522267, 14.92450938, 15.17418072])"
      ]
     },
     "execution_count": 5,
     "metadata": {},
     "output_type": "execute_result"
    }
   ],
   "source": [
    "seqBubbleSort(arr)"
   ]
  },
  {
   "cell_type": "code",
   "execution_count": 6,
   "metadata": {
    "colab": {
     "base_uri": "https://localhost:8080/",
     "height": 34
    },
    "colab_type": "code",
    "id": "6iVh_TFj6vTb",
    "outputId": "6528e0e6-d3c8-40c3-cbf5-da5c71aa105e"
   },
   "outputs": [
    {
     "data": {
      "text/plain": [
       "0.002766051999060437"
      ]
     },
     "execution_count": 6,
     "metadata": {},
     "output_type": "execute_result"
    }
   ],
   "source": [
    "import timeit\n",
    "\n",
    "timeit.timeit(setup=\"from __main__ import seqBubbleSort, arr\", stmt='seqBubbleSort(arr)', number=100)"
   ]
  },
  {
   "cell_type": "code",
   "execution_count": 7,
   "metadata": {
    "colab": {},
    "colab_type": "code",
    "id": "QOL0Mjz18-Ax"
   },
   "outputs": [],
   "source": [
    "seq_times = []\n",
    "seq_sizes = []\n",
    "\n",
    "for n in [10, 20, 30, 40, 50, 60, 70, 80, 90, 100, 200, 300, 400, 500, 600, 700, 800, 900, 1000]:\n",
    "  \n",
    "  arr = 6.3 * np.random.randn(n) + 4.5\n",
    "\n",
    "  tt = timeit.timeit(setup=\"from __main__ import seqBubbleSort, arr\", stmt='seqBubbleSort(arr)', number=100)\n",
    "  \n",
    "  seq_times.append(tt)\n",
    "  seq_sizes.append(n)"
   ]
  },
  {
   "cell_type": "code",
   "execution_count": 8,
   "metadata": {
    "colab": {
     "base_uri": "https://localhost:8080/",
     "height": 592
    },
    "colab_type": "code",
    "id": "jF-oSFFGA5fP",
    "outputId": "c061b7fc-9f3c-44dc-b544-9adbc4b78ccc"
   },
   "outputs": [
    {
     "data": {
      "image/png": "[encoded data removed]",
      "text/plain": [
       "<Figure size 864x720 with 1 Axes>"
      ]
     },
     "metadata": {
      "needs_background": "light"
     },
     "output_type": "display_data"
    }
   ],
   "source": [
    "fig = plt.figure(figsize=(12, 10))\n",
    "plt.plot(seq_sizes, seq_times, label='Seconds')\n",
    "plt.legend()\n",
    "plt.show();"
   ]
  },
  {
   "cell_type": "code",
   "execution_count": 9,
   "metadata": {
    "colab": {
     "base_uri": "https://localhost:8080/",
     "height": 51
    },
    "colab_type": "code",
    "id": "5qJlsy-nBVrn",
    "outputId": "0a036d64-7d47-4eb5-bbb2-d61dad0b53b1"
   },
   "outputs": [
    {
     "data": {
      "text/plain": [
       "array([-3.89198068, -3.40694352, -2.22054551, -0.57526388,  5.66550673,\n",
       "        6.3423029 ,  6.57543797,  8.38838607,  9.31532823, 14.89867237])"
      ]
     },
     "execution_count": 9,
     "metadata": {},
     "output_type": "execute_result"
    }
   ],
   "source": [
    "def parallelBubbleSort(arr):\n",
    "\n",
    "  n = len(arr)\n",
    "  for k in range(n-1):\n",
    "    if k % 2 == 0:\n",
    "      for i in range(n//2 - 0):\n",
    "        if arr[2*i] > arr[2*i+1]:\n",
    "          arr[2*i], arr[2*i+1] = arr[2*i+1], arr[2*i]\n",
    "    else:\n",
    "      for i in range(n//2 - 1):\n",
    "        if arr[2*i+1] > arr[2*i+2]:\n",
    "          arr[2*i+1], arr[2*i+2] = arr[2*i+2], arr[2*i+1]\n",
    "\n",
    "  return arr\n",
    "\n",
    "arr = 6.3 * np.random.randn(10) + 4.5\n",
    "parallelBubbleSort(arr)"
   ]
  },
  {
   "cell_type": "code",
   "execution_count": 10,
   "metadata": {
    "colab": {
     "base_uri": "https://localhost:8080/",
     "height": 51
    },
    "colab_type": "code",
    "id": "Zikp0q0zmLBd",
    "outputId": "a28e0dd7-0f63-4f62-952d-24fc97a39eb1"
   },
   "outputs": [
    {
     "name": "stdout",
     "output_type": "stream",
     "text": [
      "original array \t [-14  70  83 -48 -16 -26 -87 -40 -11 -15]\n",
      "sorted array \t [-87, -48, -40, -26, -16, -15, -14, -11, 70, 83]\n"
     ]
    }
   ],
   "source": [
    "import multiprocessing as mp\n",
    "import numpy as np\n",
    "\n",
    "\n",
    "num_cores = mp.cpu_count()\n",
    "\n",
    "arr = np.random.randint(low=-100, high=100, size=10)\n",
    "mem_mgr = mp.Manager()\n",
    "shared_arr = mem_mgr.list(arr)\n",
    "\n",
    "def processEven(i):\n",
    "  global shared_arr\n",
    "  if shared_arr[2*i] > shared_arr[2*i+1]:\n",
    "    shared_arr[2*i], shared_arr[2*i+1] = shared_arr[2*i+1], shared_arr[2*i]\n",
    "\n",
    "\n",
    "def processOdd(i):\n",
    "  global shared_arr\n",
    "  if shared_arr[2*i+1] > shared_arr[2*i+2]:\n",
    "    shared_arr[2*i+1], shared_arr[2*i+2] = shared_arr[2*i+2], shared_arr[2*i+1]\n",
    "\n",
    "\n",
    "def mpBubbleSort(n, p):\n",
    "  for k in range(n):\n",
    "    if k % 2 == 0:\n",
    "      p.map(processEven, [i for i in range(n//2 - 0)])\n",
    "    else:\n",
    "      p.map(processOdd, [i for i in range(n//2 - 1)])\n",
    "\n",
    "\n",
    "mpBubbleSort(len(arr), mp.Pool(num_cores))\n",
    "\n",
    "print('original array \\t', arr)\n",
    "print('sorted array \\t', shared_arr)"
   ]
  },
  {
   "cell_type": "code",
   "execution_count": 11,
   "metadata": {
    "colab": {},
    "colab_type": "code",
    "id": "Rpl0JqYtJR2T"
   },
   "outputs": [],
   "source": [
    "seq_times = []\n",
    "par_times = []\n",
    "mp_times = []\n",
    "sizes = []\n",
    "\n",
    "for n in range(10, 501, 10):\n",
    "\n",
    "  arr = 6.3 * np.random.randn(n) + 4.5\n",
    "  mem_mgr = mp.Manager()\n",
    "  shared_arr = mem_mgr.list(arr)\n",
    "  p = mp.Pool(num_cores)\n",
    "\n",
    "  tt_seq = timeit.timeit(setup=\"from __main__ import seqBubbleSort, arr\", stmt='seqBubbleSort(arr)', number=1)\n",
    "  tt_par = timeit.timeit(setup=\"from __main__ import parallelBubbleSort, arr\", stmt='parallelBubbleSort(arr)', number=1)\n",
    "  tt_mp = timeit.timeit(\n",
    "      setup=\"from __main__ import mpBubbleSort, n, p\", stmt='mpBubbleSort(n, p)', number=1)\n",
    "  \n",
    "  seq_times.append(tt_seq)\n",
    "  par_times.append(tt_par)\n",
    "  mp_times.append(tt_mp)\n",
    "  sizes.append(n)\n"
   ]
  },
  {
   "cell_type": "code",
   "execution_count": 12,
   "metadata": {
    "colab": {
     "base_uri": "https://localhost:8080/",
     "height": 592
    },
    "colab_type": "code",
    "id": "C6lftr4aL9Tj",
    "outputId": "83f67b57-cae7-481d-a72c-1719e52a64c2"
   },
   "outputs": [
    {
     "data": {
      "image/png": "[encoded data removed]",
      "text/plain": [
       "<Figure size 864x720 with 1 Axes>"
      ]
     },
     "metadata": {
      "needs_background": "light"
     },
     "output_type": "display_data"
    }
   ],
   "source": [
    "fig = plt.figure(figsize=(12, 10))\n",
    "plt.plot(sizes, seq_times, label='Bubble Sort Seconds', c='b')\n",
    "plt.plot(sizes, par_times, label='Odd Even Transpose Seconds', c='g')\n",
    "plt.legend()\n",
    "plt.show();"
   ]
  },
  {
   "cell_type": "code",
   "execution_count": 13,
   "metadata": {
    "colab": {
     "base_uri": "https://localhost:8080/",
     "height": 592
    },
    "colab_type": "code",
    "id": "yTv2WLVEN1-R",
    "outputId": "5885ba83-5e25-4514-b2a5-8de7e84d2759"
   },
   "outputs": [
    {
     "data": {
      "image/png": "[encoded data removed]",
      "text/plain": [
       "<Figure size 864x720 with 1 Axes>"
      ]
     },
     "metadata": {
      "needs_background": "light"
     },
     "output_type": "display_data"
    }
   ],
   "source": [
    "fig = plt.figure(figsize=(12, 10))\n",
    "plt.plot(sizes, seq_times, label='Bubble Sort Seconds', c='b')\n",
    "plt.plot(sizes, par_times, label='Odd Even Transpose Seconds', c='g')\n",
    "plt.plot(sizes, mp_times, label='Parallel(p=2) Odd Even Transpose Seconds', c='k')\n",
    "plt.legend()\n",
    "plt.show();"
   ]
  },
  {
   "cell_type": "code",
   "execution_count": 14,
   "metadata": {
    "colab": {
     "base_uri": "https://localhost:8080/",
     "height": 34
    },
    "colab_type": "code",
    "id": "Y3waqtjFQXJ2",
    "outputId": "8b0bdc27-2dbe-4008-d31d-8e491eb0e18a"
   },
   "outputs": [
    {
     "name": "stdout",
     "output_type": "stream",
     "text": [
      "Overall Improvement (Bubble Sort vs Odd-Even Transpose): %36.97\n"
     ]
    }
   ],
   "source": [
    "avg = 0\n",
    "\n",
    "for i, j in zip(seq_times, par_times):\n",
    "  avg += abs(j - i) / j\n",
    " \n",
    "avg = avg / len(seq_times)\n",
    "\n",
    "print(\"Overall Improvement (Bubble Sort vs Odd-Even Transpose): %{:0.2f}\".format(avg * 100))"
   ]
  },
  {
   "cell_type": "code",
   "execution_count": 15,
   "metadata": {
    "colab": {},
    "colab_type": "code",
    "id": "UWDMt23JTm77"
   },
   "outputs": [
    {
     "ename": "OSError",
     "evalue": "[Errno 24] Too many open files",
     "output_type": "error",
     "traceback": [
      "\u001b[0;31m---------------------------------------------------------------------------\u001b[0m",
      "\u001b[0;31mOSError\u001b[0m                                   Traceback (most recent call last)",
      "\u001b[0;32m<ipython-input-15-20bcaba8b5c3>\u001b[0m in \u001b[0;36m<module>\u001b[0;34m\u001b[0m\n\u001b[1;32m     12\u001b[0m   \u001b[0mp_4\u001b[0m \u001b[0;34m=\u001b[0m \u001b[0mmp\u001b[0m\u001b[0;34m.\u001b[0m\u001b[0mPool\u001b[0m\u001b[0;34m(\u001b[0m\u001b[0;36m4\u001b[0m\u001b[0;34m)\u001b[0m\u001b[0;34m\u001b[0m\u001b[0;34m\u001b[0m\u001b[0m\n\u001b[1;32m     13\u001b[0m   \u001b[0mp_8\u001b[0m \u001b[0;34m=\u001b[0m \u001b[0mmp\u001b[0m\u001b[0;34m.\u001b[0m\u001b[0mPool\u001b[0m\u001b[0;34m(\u001b[0m\u001b[0;36m8\u001b[0m\u001b[0;34m)\u001b[0m\u001b[0;34m\u001b[0m\u001b[0;34m\u001b[0m\u001b[0m\n\u001b[0;32m---> 14\u001b[0;31m   \u001b[0mp_16\u001b[0m \u001b[0;34m=\u001b[0m \u001b[0mmp\u001b[0m\u001b[0;34m.\u001b[0m\u001b[0mPool\u001b[0m\u001b[0;34m(\u001b[0m\u001b[0;36m16\u001b[0m\u001b[0;34m)\u001b[0m\u001b[0;34m\u001b[0m\u001b[0;34m\u001b[0m\u001b[0m\n\u001b[0m\u001b[1;32m     15\u001b[0m \u001b[0;34m\u001b[0m\u001b[0m\n\u001b[1;32m     16\u001b[0m   tt_mp_4 = timeit.timeit(\n",
      "\u001b[0;32m/usr/lib/python3.6/multiprocessing/context.py\u001b[0m in \u001b[0;36mPool\u001b[0;34m(self, processes, initializer, initargs, maxtasksperchild)\u001b[0m\n\u001b[1;32m    117\u001b[0m         \u001b[0;32mfrom\u001b[0m \u001b[0;34m.\u001b[0m\u001b[0mpool\u001b[0m \u001b[0;32mimport\u001b[0m \u001b[0mPool\u001b[0m\u001b[0;34m\u001b[0m\u001b[0;34m\u001b[0m\u001b[0m\n\u001b[1;32m    118\u001b[0m         return Pool(processes, initializer, initargs, maxtasksperchild,\n\u001b[0;32m--> 119\u001b[0;31m                     context=self.get_context())\n\u001b[0m\u001b[1;32m    120\u001b[0m \u001b[0;34m\u001b[0m\u001b[0m\n\u001b[1;32m    121\u001b[0m     \u001b[0;32mdef\u001b[0m \u001b[0mRawValue\u001b[0m\u001b[0;34m(\u001b[0m\u001b[0mself\u001b[0m\u001b[0;34m,\u001b[0m \u001b[0mtypecode_or_type\u001b[0m\u001b[0;34m,\u001b[0m \u001b[0;34m*\u001b[0m\u001b[0margs\u001b[0m\u001b[0;34m)\u001b[0m\u001b[0;34m:\u001b[0m\u001b[0;34m\u001b[0m\u001b[0;34m\u001b[0m\u001b[0m\n",
      "\u001b[0;32m/usr/lib/python3.6/multiprocessing/pool.py\u001b[0m in \u001b[0;36m__init__\u001b[0;34m(self, processes, initializer, initargs, maxtasksperchild, context)\u001b[0m\n\u001b[1;32m    172\u001b[0m         \u001b[0mself\u001b[0m\u001b[0;34m.\u001b[0m\u001b[0m_processes\u001b[0m \u001b[0;34m=\u001b[0m \u001b[0mprocesses\u001b[0m\u001b[0;34m\u001b[0m\u001b[0;34m\u001b[0m\u001b[0m\n\u001b[1;32m    173\u001b[0m         \u001b[0mself\u001b[0m\u001b[0;34m.\u001b[0m\u001b[0m_pool\u001b[0m \u001b[0;34m=\u001b[0m \u001b[0;34m[\u001b[0m\u001b[0;34m]\u001b[0m\u001b[0;34m\u001b[0m\u001b[0;34m\u001b[0m\u001b[0m\n\u001b[0;32m--> 174\u001b[0;31m         \u001b[0mself\u001b[0m\u001b[0;34m.\u001b[0m\u001b[0m_repopulate_pool\u001b[0m\u001b[0;34m(\u001b[0m\u001b[0;34m)\u001b[0m\u001b[0;34m\u001b[0m\u001b[0;34m\u001b[0m\u001b[0m\n\u001b[0m\u001b[1;32m    175\u001b[0m \u001b[0;34m\u001b[0m\u001b[0m\n\u001b[1;32m    176\u001b[0m         self._worker_handler = threading.Thread(\n",
      "\u001b[0;32m/usr/lib/python3.6/multiprocessing/pool.py\u001b[0m in \u001b[0;36m_repopulate_pool\u001b[0;34m(self)\u001b[0m\n\u001b[1;32m    237\u001b[0m             \u001b[0mw\u001b[0m\u001b[0;34m.\u001b[0m\u001b[0mname\u001b[0m \u001b[0;34m=\u001b[0m \u001b[0mw\u001b[0m\u001b[0;34m.\u001b[0m\u001b[0mname\u001b[0m\u001b[0;34m.\u001b[0m\u001b[0mreplace\u001b[0m\u001b[0;34m(\u001b[0m\u001b[0;34m'Process'\u001b[0m\u001b[0;34m,\u001b[0m \u001b[0;34m'PoolWorker'\u001b[0m\u001b[0;34m)\u001b[0m\u001b[0;34m\u001b[0m\u001b[0;34m\u001b[0m\u001b[0m\n\u001b[1;32m    238\u001b[0m             \u001b[0mw\u001b[0m\u001b[0;34m.\u001b[0m\u001b[0mdaemon\u001b[0m \u001b[0;34m=\u001b[0m \u001b[0;32mTrue\u001b[0m\u001b[0;34m\u001b[0m\u001b[0;34m\u001b[0m\u001b[0m\n\u001b[0;32m--> 239\u001b[0;31m             \u001b[0mw\u001b[0m\u001b[0;34m.\u001b[0m\u001b[0mstart\u001b[0m\u001b[0;34m(\u001b[0m\u001b[0;34m)\u001b[0m\u001b[0;34m\u001b[0m\u001b[0;34m\u001b[0m\u001b[0m\n\u001b[0m\u001b[1;32m    240\u001b[0m             \u001b[0mutil\u001b[0m\u001b[0;34m.\u001b[0m\u001b[0mdebug\u001b[0m\u001b[0;34m(\u001b[0m\u001b[0;34m'added worker'\u001b[0m\u001b[0;34m)\u001b[0m\u001b[0;34m\u001b[0m\u001b[0;34m\u001b[0m\u001b[0m\n\u001b[1;32m    241\u001b[0m \u001b[0;34m\u001b[0m\u001b[0m\n",
      "\u001b[0;32m/usr/lib/python3.6/multiprocessing/process.py\u001b[0m in \u001b[0;36mstart\u001b[0;34m(self)\u001b[0m\n\u001b[1;32m    103\u001b[0m                \u001b[0;34m'daemonic processes are not allowed to have children'\u001b[0m\u001b[0;34m\u001b[0m\u001b[0;34m\u001b[0m\u001b[0m\n\u001b[1;32m    104\u001b[0m         \u001b[0m_cleanup\u001b[0m\u001b[0;34m(\u001b[0m\u001b[0;34m)\u001b[0m\u001b[0;34m\u001b[0m\u001b[0;34m\u001b[0m\u001b[0m\n\u001b[0;32m--> 105\u001b[0;31m         \u001b[0mself\u001b[0m\u001b[0;34m.\u001b[0m\u001b[0m_popen\u001b[0m \u001b[0;34m=\u001b[0m \u001b[0mself\u001b[0m\u001b[0;34m.\u001b[0m\u001b[0m_Popen\u001b[0m\u001b[0;34m(\u001b[0m\u001b[0mself\u001b[0m\u001b[0;34m)\u001b[0m\u001b[0;34m\u001b[0m\u001b[0;34m\u001b[0m\u001b[0m\n\u001b[0m\u001b[1;32m    106\u001b[0m         \u001b[0mself\u001b[0m\u001b[0;34m.\u001b[0m\u001b[0m_sentinel\u001b[0m \u001b[0;34m=\u001b[0m \u001b[0mself\u001b[0m\u001b[0;34m.\u001b[0m\u001b[0m_popen\u001b[0m\u001b[0;34m.\u001b[0m\u001b[0msentinel\u001b[0m\u001b[0;34m\u001b[0m\u001b[0;34m\u001b[0m\u001b[0m\n\u001b[1;32m    107\u001b[0m         \u001b[0;31m# Avoid a refcycle if the target function holds an indirect\u001b[0m\u001b[0;34m\u001b[0m\u001b[0;34m\u001b[0m\u001b[0;34m\u001b[0m\u001b[0m\n",
      "\u001b[0;32m/usr/lib/python3.6/multiprocessing/context.py\u001b[0m in \u001b[0;36m_Popen\u001b[0;34m(process_obj)\u001b[0m\n\u001b[1;32m    275\u001b[0m         \u001b[0;32mdef\u001b[0m \u001b[0m_Popen\u001b[0m\u001b[0;34m(\u001b[0m\u001b[0mprocess_obj\u001b[0m\u001b[0;34m)\u001b[0m\u001b[0;34m:\u001b[0m\u001b[0;34m\u001b[0m\u001b[0;34m\u001b[0m\u001b[0m\n\u001b[1;32m    276\u001b[0m             \u001b[0;32mfrom\u001b[0m \u001b[0;34m.\u001b[0m\u001b[0mpopen_fork\u001b[0m \u001b[0;32mimport\u001b[0m \u001b[0mPopen\u001b[0m\u001b[0;34m\u001b[0m\u001b[0;34m\u001b[0m\u001b[0m\n\u001b[0;32m--> 277\u001b[0;31m             \u001b[0;32mreturn\u001b[0m \u001b[0mPopen\u001b[0m\u001b[0;34m(\u001b[0m\u001b[0mprocess_obj\u001b[0m\u001b[0;34m)\u001b[0m\u001b[0;34m\u001b[0m\u001b[0;34m\u001b[0m\u001b[0m\n\u001b[0m\u001b[1;32m    278\u001b[0m \u001b[0;34m\u001b[0m\u001b[0m\n\u001b[1;32m    279\u001b[0m     \u001b[0;32mclass\u001b[0m \u001b[0mSpawnProcess\u001b[0m\u001b[0;34m(\u001b[0m\u001b[0mprocess\u001b[0m\u001b[0;34m.\u001b[0m\u001b[0mBaseProcess\u001b[0m\u001b[0;34m)\u001b[0m\u001b[0;34m:\u001b[0m\u001b[0;34m\u001b[0m\u001b[0;34m\u001b[0m\u001b[0m\n",
      "\u001b[0;32m/usr/lib/python3.6/multiprocessing/popen_fork.py\u001b[0m in \u001b[0;36m__init__\u001b[0;34m(self, process_obj)\u001b[0m\n\u001b[1;32m     17\u001b[0m         \u001b[0mutil\u001b[0m\u001b[0;34m.\u001b[0m\u001b[0m_flush_std_streams\u001b[0m\u001b[0;34m(\u001b[0m\u001b[0;34m)\u001b[0m\u001b[0;34m\u001b[0m\u001b[0;34m\u001b[0m\u001b[0m\n\u001b[1;32m     18\u001b[0m         \u001b[0mself\u001b[0m\u001b[0;34m.\u001b[0m\u001b[0mreturncode\u001b[0m \u001b[0;34m=\u001b[0m \u001b[0;32mNone\u001b[0m\u001b[0;34m\u001b[0m\u001b[0;34m\u001b[0m\u001b[0m\n\u001b[0;32m---> 19\u001b[0;31m         \u001b[0mself\u001b[0m\u001b[0;34m.\u001b[0m\u001b[0m_launch\u001b[0m\u001b[0;34m(\u001b[0m\u001b[0mprocess_obj\u001b[0m\u001b[0;34m)\u001b[0m\u001b[0;34m\u001b[0m\u001b[0;34m\u001b[0m\u001b[0m\n\u001b[0m\u001b[1;32m     20\u001b[0m \u001b[0;34m\u001b[0m\u001b[0m\n\u001b[1;32m     21\u001b[0m     \u001b[0;32mdef\u001b[0m \u001b[0mduplicate_for_child\u001b[0m\u001b[0;34m(\u001b[0m\u001b[0mself\u001b[0m\u001b[0;34m,\u001b[0m \u001b[0mfd\u001b[0m\u001b[0;34m)\u001b[0m\u001b[0;34m:\u001b[0m\u001b[0;34m\u001b[0m\u001b[0;34m\u001b[0m\u001b[0m\n",
      "\u001b[0;32m/usr/lib/python3.6/multiprocessing/popen_fork.py\u001b[0m in \u001b[0;36m_launch\u001b[0;34m(self, process_obj)\u001b[0m\n\u001b[1;32m     63\u001b[0m     \u001b[0;32mdef\u001b[0m \u001b[0m_launch\u001b[0m\u001b[0;34m(\u001b[0m\u001b[0mself\u001b[0m\u001b[0;34m,\u001b[0m \u001b[0mprocess_obj\u001b[0m\u001b[0;34m)\u001b[0m\u001b[0;34m:\u001b[0m\u001b[0;34m\u001b[0m\u001b[0;34m\u001b[0m\u001b[0m\n\u001b[1;32m     64\u001b[0m         \u001b[0mcode\u001b[0m \u001b[0;34m=\u001b[0m \u001b[0;36m1\u001b[0m\u001b[0;34m\u001b[0m\u001b[0;34m\u001b[0m\u001b[0m\n\u001b[0;32m---> 65\u001b[0;31m         \u001b[0mparent_r\u001b[0m\u001b[0;34m,\u001b[0m \u001b[0mchild_w\u001b[0m \u001b[0;34m=\u001b[0m \u001b[0mos\u001b[0m\u001b[0;34m.\u001b[0m\u001b[0mpipe\u001b[0m\u001b[0;34m(\u001b[0m\u001b[0;34m)\u001b[0m\u001b[0;34m\u001b[0m\u001b[0;34m\u001b[0m\u001b[0m\n\u001b[0m\u001b[1;32m     66\u001b[0m         \u001b[0mself\u001b[0m\u001b[0;34m.\u001b[0m\u001b[0mpid\u001b[0m \u001b[0;34m=\u001b[0m \u001b[0mos\u001b[0m\u001b[0;34m.\u001b[0m\u001b[0mfork\u001b[0m\u001b[0;34m(\u001b[0m\u001b[0;34m)\u001b[0m\u001b[0;34m\u001b[0m\u001b[0;34m\u001b[0m\u001b[0m\n\u001b[1;32m     67\u001b[0m         \u001b[0;32mif\u001b[0m \u001b[0mself\u001b[0m\u001b[0;34m.\u001b[0m\u001b[0mpid\u001b[0m \u001b[0;34m==\u001b[0m \u001b[0;36m0\u001b[0m\u001b[0;34m:\u001b[0m\u001b[0;34m\u001b[0m\u001b[0;34m\u001b[0m\u001b[0m\n",
      "\u001b[0;31mOSError\u001b[0m: [Errno 24] Too many open files"
     ]
    }
   ],
   "source": [
    "mp_4_times = []\n",
    "mp_8_times = []\n",
    "mp_16_times = []\n",
    "\n",
    "sizes = []\n",
    "\n",
    "for n in range(10, 501, 10):\n",
    "\n",
    "  arr = 6.3 * np.random.randn(n) + 4.5\n",
    "  mem_mgr = mp.Manager()\n",
    "  shared_arr = mem_mgr.list(arr)\n",
    "  p_4 = mp.Pool(4)\n",
    "  p_8 = mp.Pool(8)\n",
    "  p_16 = mp.Pool(16)\n",
    "\n",
    "  tt_mp_4 = timeit.timeit(\n",
    "      setup=\"from __main__ import mpBubbleSort, n, p_4\", stmt='mpBubbleSort(n, p_4)', number=1\n",
    "      )\n",
    "  tt_mp_8 = timeit.timeit(\n",
    "      setup=\"from __main__ import mpBubbleSort, n, p_8\", stmt='mpBubbleSort(n, p_8)', number=1\n",
    "      )\n",
    "  tt_mp_16 = timeit.timeit(\n",
    "      setup=\"from __main__ import mpBubbleSort, n, p_16\", stmt='mpBubbleSort(n, p_16)', number=1\n",
    "      )\n",
    "\n",
    "  mp_4_times.append(tt_mp_4)\n",
    "  mp_8_times.append(tt_mp_8)\n",
    "  mp_16_times.append(tt_mp_16)\n",
    "  sizes.append(n)\n"
   ]
  },
  {
   "cell_type": "code",
   "execution_count": null,
   "metadata": {
    "colab": {},
    "colab_type": "code",
    "id": "eoyPwNQoUhn9"
   },
   "outputs": [],
   "source": [
    "fig = plt.figure(figsize=(12, 10))\n",
    "plt.plot(sizes, mp_4, label='(P=4) Seconds', c='y')\n",
    "plt.plot(sizes, mp_8, label='(P=8) Seconds', c='c')\n",
    "plt.plot(sizes, mp_16, label='(P=16) Seconds', c='l')\n",
    "plt.legend()\n",
    "plt.show();"
   ]
  },
  {
   "cell_type": "code",
   "execution_count": null,
   "metadata": {
    "colab": {},
    "colab_type": "code",
    "id": "JQSYefs1Uh8n"
   },
   "outputs": [],
   "source": [
    "fig = plt.figure(figsize=(12, 10))\n",
    "plt.plot(sizes, seq_times, label='Bubble Sort Seconds', c='b')\n",
    "plt.plot(sizes, par_times, label='Odd Even Transpose Seconds', c='g')\n",
    "plt.plot(sizes, mp_times, label='Parallel(P=2) Odd Even Transpose Seconds', c='k')\n",
    "plt.plot(sizes, mp_4, label='Parallel(P=4) Seconds', c='y')\n",
    "plt.plot(sizes, mp_8, label='Parallel(P=8) Seconds', c='c')\n",
    "plt.plot(sizes, mp_16, label='Parallel(P=16) Seconds', c='l')\n",
    "plt.legend()\n",
    "plt.show();"
   ]
  },
  {
   "cell_type": "markdown",
   "metadata": {
    "colab_type": "text",
    "id": "FIFiC--dEc-f"
   },
   "source": [
    "**Hardware & Software Specifications**"
   ]
  },
  {
   "cell_type": "code",
   "execution_count": null,
   "metadata": {
    "colab": {
     "base_uri": "https://localhost:8080/",
     "height": 103
    },
    "colab_type": "code",
    "id": "d8u7eP83Ei6l",
    "outputId": "49505e71-26d3-4a99-a4d7-0a88d7f9e2b6"
   },
   "outputs": [],
   "source": [
    "!apt-get install hwinfo"
   ]
  },
  {
   "cell_type": "code",
   "execution_count": null,
   "metadata": {
    "colab": {
     "base_uri": "https://localhost:8080/",
     "height": 1000
    },
    "colab_type": "code",
    "id": "YOs2QUPoEz4L",
    "outputId": "a7dc43b0-86cf-4d52-c168-0eeca12b3be4"
   },
   "outputs": [],
   "source": [
    "!hwinfo"
   ]
  },
  {
   "cell_type": "code",
   "execution_count": null,
   "metadata": {
    "colab": {
     "base_uri": "https://localhost:8080/",
     "height": 34
    },
    "colab_type": "code",
    "id": "44ng6lL3FtpK",
    "outputId": "9c0dc8e6-6dce-4c2b-98f5-3b57201d5c45"
   },
   "outputs": [],
   "source": [
    "!python -V"
   ]
  },
  {
   "cell_type": "code",
   "execution_count": null,
   "metadata": {
    "colab": {
     "base_uri": "https://localhost:8080/",
     "height": 1000
    },
    "colab_type": "code",
    "id": "0aob0YhzFyZE",
    "outputId": "df1bbb6b-5328-4051-fc25-bc9f4054b21b"
   },
   "outputs": [],
   "source": [
    "!pip freeze"
   ]
  },
  {
   "cell_type": "code",
   "execution_count": null,
   "metadata": {
    "colab": {},
    "colab_type": "code",
    "id": "0cFbkv65GG1P"
   },
   "outputs": [],
   "source": [
    "            "
   ]
  },
  {
   "cell_type": "code",
   "execution_count": null,
   "metadata": {
    "colab": {},
    "colab_type": "code",
    "id": "sReS1ft4TBxS"
   },
   "outputs": [],
   "source": []
  }
 ],
 "metadata": {
  "colab": {
   "collapsed_sections": [],
   "name": "Parallel Bubble Sort",
   "provenance": []
  },
  "kernelspec": {
   "display_name": "Python 3",
   "language": "python",
   "name": "python3"
  },
  "language_info": {
   "codemirror_mode": {
    "name": "ipython",
    "version": 3
   },
   "file_extension": ".py",
   "mimetype": "text/x-python",
   "name": "python",
   "nbconvert_exporter": "python",
   "pygments_lexer": "ipython3",
   "version": "3.6.8"
  }
 },
 "nbformat": 4,
 "nbformat_minor": 1
}
