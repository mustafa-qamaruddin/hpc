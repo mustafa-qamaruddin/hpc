{
 "cells": [
  {
   "cell_type": "code",
   "execution_count": 1,
   "metadata": {
    "colab": {
     "base_uri": "https://localhost:8080/",
     "height": 486
    },
    "colab_type": "code",
    "id": "qCJw8L9Lnv2e",
    "outputId": "c499547a-1819-4643-a42d-0db931794dc6"
   },
   "outputs": [],
   "source": [
    "# Import Libraries\n",
    "\n",
    "import psutil\n",
    "import ray\n",
    "import numpy as np\n",
    "from matplotlib import pyplot as plt\n",
    "import multiprocessing as mp\n",
    "from pprint import pprint as pp\n",
    "import math\n",
    "import timeit"
   ]
  },
  {
   "cell_type": "code",
   "execution_count": 2,
   "metadata": {
    "colab": {},
    "colab_type": "code",
    "id": "GCYrd_pYmkPs"
   },
   "outputs": [],
   "source": [
    "# Sequential Dot Product\n",
    "\n",
    "def SeqDotProd(A, B):\n",
    "\n",
    "  m, n = A.shape\n",
    "  n, p = B.shape\n",
    "\n",
    "  ret = np.zeros(shape=(m, p))\n",
    "\n",
    "  for i in range(m):\n",
    "    for j in range(p):\n",
    "      ret[i, j] = 0\n",
    "      for k in range(n):\n",
    "        ret[i, j] += A[i, k] * B[k, j]\n",
    "  \n",
    "  return ret"
   ]
  },
  {
   "cell_type": "code",
   "execution_count": 3,
   "metadata": {
    "colab": {
     "base_uri": "https://localhost:8080/",
     "height": 153
    },
    "colab_type": "code",
    "id": "X_gZOMYNo2wn",
    "outputId": "8fb9692a-fb13-445e-90d4-b33e907f08bb"
   },
   "outputs": [
    {
     "name": "stdout",
     "output_type": "stream",
     "text": [
      "array([[71., 43., 75.],\n",
      "       [78., 21., 81.],\n",
      "       [87., 21., 75.]])\n",
      "(3, 3)\n"
     ]
    }
   ],
   "source": [
    "# Test Sequential Dot Product\n",
    "\n",
    "A = np.random.randint(0, 10, size=(3, 3))\n",
    "B = np.random.randint(0, 10, size=(3, 3))\n",
    "\n",
    "C = SeqDotProd(A, B)\n",
    "\n",
    "pp(C)\n",
    "pp(C.shape)"
   ]
  },
  {
   "cell_type": "code",
   "execution_count": 8,
   "metadata": {
    "colab": {},
    "colab_type": "code",
    "id": "eKW6BHngpEyu"
   },
   "outputs": [],
   "source": [
    "# Parallel Dot Product\n",
    "\n",
    "@ray.remote\n",
    "class ParDotProdClass(object):\n",
    "    \n",
    "    def __init__(self, A, B, N):\n",
    "        \n",
    "        self.m = A.shape[0]\n",
    "        self.n = B.shape[0]\n",
    "        self.p = B.shape[1]\n",
    "        \n",
    "        self.ret = np.zeros(shape=(self.m, self.p))\n",
    "        \n",
    "        self.row = 0\n",
    "        self.col = 0\n",
    "        self.step_size = math.ceil(self.m/N)\n",
    "        \n",
    "    def get_value(self):\n",
    "        return self.ret\n",
    "    \n",
    "    def inc(self):\n",
    "        \n",
    "        rs = self.row * self.step_size\n",
    "        re = min(self.m, rs + self.step_size)\n",
    "    \n",
    "        cs = self.col * self.step_size\n",
    "        ce = min(self.p, cs * self.step_size)\n",
    "        \n",
    "        for i in range(rs, re):\n",
    "            for j in range(cs, ce):\n",
    "              self.ret[i, j] = 0\n",
    "              for k in range(self.n):\n",
    "                self.ret[i, j] += A[i, k] * B[k, j]\n",
    "        \n",
    "        self.row += 1\n",
    "        self.col += 1\n",
    "\n",
    "\n",
    "def ParDotProd(A, B, N):\n",
    "    \n",
    "    ray.shutdown()\n",
    "    ray.init(num_cpus=N)\n",
    "    \n",
    "    shared_a = ray.put(A)\n",
    "    shared_b = ray.put(B)\n",
    "    \n",
    "    parObj = ParDotProdClass.remote(shared_a, shared_b, N)\n",
    "    \n",
    "    for _ in range(N):\n",
    "        parObj.inc.remote()\n",
    "\n",
    "    return ray.get(parObj.get_value.remote())"
   ]
  },
  {
   "cell_type": "code",
   "execution_count": 9,
   "metadata": {
    "colab": {
     "base_uri": "https://localhost:8080/",
     "height": 350
    },
    "colab_type": "code",
    "id": "LxwAM3QFqbO-",
    "outputId": "19f24e76-0497-4cf7-b35d-35e321a726ce"
   },
   "outputs": [
    {
     "name": "stderr",
     "output_type": "stream",
     "text": [
      "2019-11-26 13:21:17,768\tINFO resource_spec.py:205 -- Starting Ray with 4.2 GiB memory available for workers and up to 2.1 GiB for objects. You can adjust these settings with ray.init(memory=<bytes>, object_store_memory=<bytes>).\n"
     ]
    },
    {
     "name": "stdout",
     "output_type": "stream",
     "text": [
      "array([[   0.,    0.,    0., ...,    0.,    0.,    0.],\n",
      "       [   0.,    0.,    0., ...,    0.,    0.,    0.],\n",
      "       [   0.,    0.,    0., ...,    0.,    0.,    0.],\n",
      "       ...,\n",
      "       [   0.,    0.,    0., ..., 2110., 1758., 1610.],\n",
      "       [   0.,    0.,    0., ..., 1693., 1733., 1625.],\n",
      "       [   0.,    0.,    0., ..., 2066., 1683., 1784.]])\n",
      "(100, 100)\n"
     ]
    }
   ],
   "source": [
    "# Test Parallel Dot Product\n",
    "\n",
    "C = ParDotProd(A, B, 2)\n",
    "\n",
    "pp(C)\n",
    "pp(C.shape)"
   ]
  },
  {
   "cell_type": "code",
   "execution_count": 10,
   "metadata": {
    "colab": {},
    "colab_type": "code",
    "id": "N_HgUlN9VgtB"
   },
   "outputs": [
    {
     "name": "stderr",
     "output_type": "stream",
     "text": [
      "2019-11-26 13:21:20,181\tINFO resource_spec.py:205 -- Starting Ray with 4.15 GiB memory available for workers and up to 2.08 GiB for objects. You can adjust these settings with ray.init(memory=<bytes>, object_store_memory=<bytes>).\n",
      "2019-11-26 13:21:22,305\tINFO resource_spec.py:205 -- Starting Ray with 4.15 GiB memory available for workers and up to 2.08 GiB for objects. You can adjust these settings with ray.init(memory=<bytes>, object_store_memory=<bytes>).\n",
      "2019-11-26 13:21:24,629\tINFO resource_spec.py:205 -- Starting Ray with 4.1 GiB memory available for workers and up to 2.07 GiB for objects. You can adjust these settings with ray.init(memory=<bytes>, object_store_memory=<bytes>).\n",
      "2019-11-26 13:21:27,034\tINFO resource_spec.py:205 -- Starting Ray with 4.15 GiB memory available for workers and up to 2.09 GiB for objects. You can adjust these settings with ray.init(memory=<bytes>, object_store_memory=<bytes>).\n",
      "2019-11-26 13:21:29,849\tINFO resource_spec.py:205 -- Starting Ray with 4.1 GiB memory available for workers and up to 2.07 GiB for objects. You can adjust these settings with ray.init(memory=<bytes>, object_store_memory=<bytes>).\n",
      "2019-11-26 13:21:32,069\tINFO resource_spec.py:205 -- Starting Ray with 4.1 GiB memory available for workers and up to 2.07 GiB for objects. You can adjust these settings with ray.init(memory=<bytes>, object_store_memory=<bytes>).\n",
      "2019-11-26 13:21:34,482\tINFO resource_spec.py:205 -- Starting Ray with 4.15 GiB memory available for workers and up to 2.09 GiB for objects. You can adjust these settings with ray.init(memory=<bytes>, object_store_memory=<bytes>).\n",
      "2019-11-26 13:21:37,535\tINFO resource_spec.py:205 -- Starting Ray with 3.91 GiB memory available for workers and up to 1.97 GiB for objects. You can adjust these settings with ray.init(memory=<bytes>, object_store_memory=<bytes>).\n",
      "2019-11-26 13:21:40,962\tINFO resource_spec.py:205 -- Starting Ray with 4.1 GiB memory available for workers and up to 2.07 GiB for objects. You can adjust these settings with ray.init(memory=<bytes>, object_store_memory=<bytes>).\n",
      "2019-11-26 13:21:43,281\tINFO resource_spec.py:205 -- Starting Ray with 4.1 GiB memory available for workers and up to 2.05 GiB for objects. You can adjust these settings with ray.init(memory=<bytes>, object_store_memory=<bytes>).\n",
      "2019-11-26 13:21:45,603\tINFO resource_spec.py:205 -- Starting Ray with 4.1 GiB memory available for workers and up to 2.07 GiB for objects. You can adjust these settings with ray.init(memory=<bytes>, object_store_memory=<bytes>).\n",
      "2019-11-26 13:21:48,331\tINFO resource_spec.py:205 -- Starting Ray with 4.1 GiB memory available for workers and up to 2.07 GiB for objects. You can adjust these settings with ray.init(memory=<bytes>, object_store_memory=<bytes>).\n",
      "2019-11-26 13:21:51,754\tINFO resource_spec.py:205 -- Starting Ray with 4.1 GiB memory available for workers and up to 2.06 GiB for objects. You can adjust these settings with ray.init(memory=<bytes>, object_store_memory=<bytes>).\n",
      "2019-11-26 13:21:54,161\tINFO resource_spec.py:205 -- Starting Ray with 4.1 GiB memory available for workers and up to 2.06 GiB for objects. You can adjust these settings with ray.init(memory=<bytes>, object_store_memory=<bytes>).\n",
      "2019-11-26 13:21:56,483\tINFO resource_spec.py:205 -- Starting Ray with 4.1 GiB memory available for workers and up to 2.06 GiB for objects. You can adjust these settings with ray.init(memory=<bytes>, object_store_memory=<bytes>).\n",
      "2019-11-26 13:21:59,285\tINFO resource_spec.py:205 -- Starting Ray with 4.1 GiB memory available for workers and up to 2.06 GiB for objects. You can adjust these settings with ray.init(memory=<bytes>, object_store_memory=<bytes>).\n",
      "2019-11-26 13:22:02,607\tINFO resource_spec.py:205 -- Starting Ray with 4.1 GiB memory available for workers and up to 2.06 GiB for objects. You can adjust these settings with ray.init(memory=<bytes>, object_store_memory=<bytes>).\n",
      "2019-11-26 13:22:04,822\tINFO resource_spec.py:205 -- Starting Ray with 4.1 GiB memory available for workers and up to 2.07 GiB for objects. You can adjust these settings with ray.init(memory=<bytes>, object_store_memory=<bytes>).\n",
      "2019-11-26 13:22:07,227\tINFO resource_spec.py:205 -- Starting Ray with 4.1 GiB memory available for workers and up to 2.06 GiB for objects. You can adjust these settings with ray.init(memory=<bytes>, object_store_memory=<bytes>).\n",
      "2019-11-26 13:22:07,482\tWARNING services.py:815 -- Redis failed to start, retrying now.\n",
      "2019-11-26 13:22:09,758\tINFO resource_spec.py:205 -- Starting Ray with 4.1 GiB memory available for workers and up to 2.06 GiB for objects. You can adjust these settings with ray.init(memory=<bytes>, object_store_memory=<bytes>).\n",
      "2019-11-26 13:22:12,764\tINFO resource_spec.py:205 -- Starting Ray with 4.15 GiB memory available for workers and up to 2.09 GiB for objects. You can adjust these settings with ray.init(memory=<bytes>, object_store_memory=<bytes>).\n",
      "2019-11-26 13:22:12,901\tWARNING services.py:815 -- Redis failed to start, retrying now.\n",
      "2019-11-26 13:22:15,002\tINFO resource_spec.py:205 -- Starting Ray with 4.1 GiB memory available for workers and up to 2.07 GiB for objects. You can adjust these settings with ray.init(memory=<bytes>, object_store_memory=<bytes>).\n",
      "2019-11-26 13:22:17,511\tINFO resource_spec.py:205 -- Starting Ray with 4.15 GiB memory available for workers and up to 2.09 GiB for objects. You can adjust these settings with ray.init(memory=<bytes>, object_store_memory=<bytes>).\n",
      "2019-11-26 13:22:20,526\tINFO resource_spec.py:205 -- Starting Ray with 4.1 GiB memory available for workers and up to 2.07 GiB for objects. You can adjust these settings with ray.init(memory=<bytes>, object_store_memory=<bytes>).\n",
      "2019-11-26 13:22:24,369\tINFO resource_spec.py:205 -- Starting Ray with 4.15 GiB memory available for workers and up to 2.09 GiB for objects. You can adjust these settings with ray.init(memory=<bytes>, object_store_memory=<bytes>).\n",
      "2019-11-26 13:22:26,675\tINFO resource_spec.py:205 -- Starting Ray with 4.1 GiB memory available for workers and up to 2.07 GiB for objects. You can adjust these settings with ray.init(memory=<bytes>, object_store_memory=<bytes>).\n",
      "2019-11-26 13:22:29,288\tINFO resource_spec.py:205 -- Starting Ray with 4.15 GiB memory available for workers and up to 2.09 GiB for objects. You can adjust these settings with ray.init(memory=<bytes>, object_store_memory=<bytes>).\n",
      "2019-11-26 13:22:32,418\tINFO resource_spec.py:205 -- Starting Ray with 4.1 GiB memory available for workers and up to 2.07 GiB for objects. You can adjust these settings with ray.init(memory=<bytes>, object_store_memory=<bytes>).\n",
      "2019-11-26 13:22:36,566\tINFO resource_spec.py:205 -- Starting Ray with 4.15 GiB memory available for workers and up to 2.09 GiB for objects. You can adjust these settings with ray.init(memory=<bytes>, object_store_memory=<bytes>).\n",
      "2019-11-26 13:22:38,584\tINFO resource_spec.py:205 -- Starting Ray with 4.1 GiB memory available for workers and up to 2.07 GiB for objects. You can adjust these settings with ray.init(memory=<bytes>, object_store_memory=<bytes>).\n",
      "2019-11-26 13:22:41,100\tINFO resource_spec.py:205 -- Starting Ray with 4.1 GiB memory available for workers and up to 2.07 GiB for objects. You can adjust these settings with ray.init(memory=<bytes>, object_store_memory=<bytes>).\n",
      "2019-11-26 13:22:43,701\tINFO resource_spec.py:205 -- Starting Ray with 4.1 GiB memory available for workers and up to 2.07 GiB for objects. You can adjust these settings with ray.init(memory=<bytes>, object_store_memory=<bytes>).\n",
      "2019-11-26 13:22:48,091\tINFO resource_spec.py:205 -- Starting Ray with 3.86 GiB memory available for workers and up to 1.94 GiB for objects. You can adjust these settings with ray.init(memory=<bytes>, object_store_memory=<bytes>).\n",
      "2019-11-26 13:22:50,597\tINFO resource_spec.py:205 -- Starting Ray with 4.1 GiB memory available for workers and up to 2.07 GiB for objects. You can adjust these settings with ray.init(memory=<bytes>, object_store_memory=<bytes>).\n",
      "2019-11-26 13:22:52,786\tINFO resource_spec.py:205 -- Starting Ray with 4.15 GiB memory available for workers and up to 2.08 GiB for objects. You can adjust these settings with ray.init(memory=<bytes>, object_store_memory=<bytes>).\n"
     ]
    },
    {
     "name": "stderr",
     "output_type": "stream",
     "text": [
      "2019-11-26 13:22:55,072\tINFO resource_spec.py:205 -- Starting Ray with 4.15 GiB memory available for workers and up to 2.08 GiB for objects. You can adjust these settings with ray.init(memory=<bytes>, object_store_memory=<bytes>).\n",
      "2019-11-26 13:22:58,759\tINFO resource_spec.py:205 -- Starting Ray with 4.2 GiB memory available for workers and up to 2.11 GiB for objects. You can adjust these settings with ray.init(memory=<bytes>, object_store_memory=<bytes>).\n",
      "2019-11-26 13:23:00,847\tINFO resource_spec.py:205 -- Starting Ray with 4.1 GiB memory available for workers and up to 2.06 GiB for objects. You can adjust these settings with ray.init(memory=<bytes>, object_store_memory=<bytes>).\n",
      "2019-11-26 13:23:03,373\tINFO resource_spec.py:205 -- Starting Ray with 4.1 GiB memory available for workers and up to 2.06 GiB for objects. You can adjust these settings with ray.init(memory=<bytes>, object_store_memory=<bytes>).\n",
      "2019-11-26 13:23:06,903\tINFO resource_spec.py:205 -- Starting Ray with 4.1 GiB memory available for workers and up to 2.06 GiB for objects. You can adjust these settings with ray.init(memory=<bytes>, object_store_memory=<bytes>).\n"
     ]
    }
   ],
   "source": [
    "# Benchmark\n",
    "\n",
    "seq_times = []\n",
    "par_times_2 = []\n",
    "par_times_4 = []\n",
    "par_times_6 = []\n",
    "par_times_8 = []\n",
    "sizes = []\n",
    "\n",
    "for n in range(10, 101, 10):\n",
    "    \n",
    "    A = np.random.randint(0, 10, size=(n, n))\n",
    "    B = np.random.randint(0, 10, size=(n, n))\n",
    "\n",
    "    tt_seq = timeit.timeit(\n",
    "      setup=\"from __main__ import SeqDotProd, A, B\",\n",
    "      stmt='SeqDotProd(A, B)',\n",
    "      number=1\n",
    "    )\n",
    "    \n",
    "    tt_par_2 = timeit.timeit(\n",
    "      setup=\"from __main__ import ParDotProd, A, B\",\n",
    "      stmt='ParDotProd(A, B, 2)',\n",
    "      number=1\n",
    "    )\n",
    "    \n",
    "    tt_par_4 = timeit.timeit(\n",
    "      setup=\"from __main__ import ParDotProd, A, B\",\n",
    "      stmt='ParDotProd(A, B, 4)',\n",
    "      number=1\n",
    "    )\n",
    "        \n",
    "    tt_par_6 = timeit.timeit(\n",
    "      setup=\"from __main__ import ParDotProd, A, B\",\n",
    "      stmt='ParDotProd(A, B, 6)',\n",
    "      number=1\n",
    "    )\n",
    "            \n",
    "    tt_par_8 = timeit.timeit(\n",
    "      setup=\"from __main__ import ParDotProd, A, B\",\n",
    "      stmt='ParDotProd(A, B, 8)',\n",
    "      number=1\n",
    "    )\n",
    "    \n",
    "    seq_times.append(tt_seq)\n",
    "    par_times_2.append(tt_par_2)\n",
    "    par_times_4.append(tt_par_4)\n",
    "    par_times_6.append(tt_par_6)\n",
    "    par_times_8.append(tt_par_8)\n",
    "    sizes.append(n)"
   ]
  },
  {
   "cell_type": "code",
   "execution_count": 11,
   "metadata": {
    "scrolled": true
   },
   "outputs": [
    {
     "data": {
      "image/png": "[encoded data removed]",
      "text/plain": [
       "<Figure size 864x720 with 1 Axes>"
      ]
     },
     "metadata": {
      "needs_background": "light"
     },
     "output_type": "display_data"
    }
   ],
   "source": [
    "fig = plt.figure(figsize=(12, 10))\n",
    "plt.plot(sizes, seq_times, label='P=1', c='y')\n",
    "plt.plot(sizes, par_times_2, label='P=2', c='c')\n",
    "plt.plot(sizes, par_times_4, label='P=4', c='k')\n",
    "plt.plot(sizes, par_times_6, label='P=6', c='b')\n",
    "plt.plot(sizes, par_times_8, label='P=8', c='m')\n",
    "plt.legend()\n",
    "plt.show();"
   ]
  },
  {
   "cell_type": "code",
   "execution_count": null,
   "metadata": {},
   "outputs": [],
   "source": []
  }
 ],
 "metadata": {
  "colab": {
   "collapsed_sections": [],
   "name": "Parallel Dot Product",
   "provenance": []
  },
  "kernelspec": {
   "display_name": "Python 3",
   "language": "python",
   "name": "python3"
  },
  "language_info": {
   "codemirror_mode": {
    "name": "ipython",
    "version": 3
   },
   "file_extension": ".py",
   "mimetype": "text/x-python",
   "name": "python",
   "nbconvert_exporter": "python",
   "pygments_lexer": "ipython3",
   "version": "3.6.8"
  }
 },
 "nbformat": 4,
 "nbformat_minor": 1
}
